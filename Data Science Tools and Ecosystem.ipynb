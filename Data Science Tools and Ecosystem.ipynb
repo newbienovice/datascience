{
 "cells": [
  {
   "cell_type": "markdown",
   "id": "c4ef7891",
   "metadata": {},
   "source": [
    "# Data Science Tools and Ecosystem"
   ]
  },
  {
   "cell_type": "markdown",
   "id": "14ce04aa",
   "metadata": {},
   "source": [
    "# Data Science Tools and Ecosystem are summarized\n",
    "\n",
    "Data Science Tools and Ecosystem is a vast collection of software tools, libraries, frameworks, and platforms used in the field of data science. These tools help in data collection, manipulation, analysis, and visualization. The ecosystem includes both open-source and commercial software tools, along with online communities, educational resources, and conferences. Data scientists use these tools to solve complex problems and gain insights from large volumes of data. The field of data science is rapidly evolving, and new tools and techniques are being developed and adopted to keep up with the changes. Successful data scientists understand the strengths and limitations of different tools and are continually updating their skills to stay current with the latest trends. Ultimately, Data Science Tools and Ecosystem empower data scientists to work more efficiently and effectively, unlocking new insights and value from data."
   ]
  },
  {
   "cell_type": "markdown",
   "id": "a1d567bf",
   "metadata": {},
   "source": [
    "# Objectives\n",
    "- Data Exploration And Analysis\n",
    "- Data Visualization\n",
    "- Predictive Modeling \n",
    "- Machine Learning And AI\n",
    "- Data-driven Decision Making"
   ]
  },
  {
   "cell_type": "markdown",
   "id": "30a54b0d",
   "metadata": {},
   "source": [
    "# Some of the popular languages that Data Scientists use\n",
    "\n",
    "Data Scientists use a variety of programming languages for their work. Some of the popular languages include:\n",
    "1. Python\n",
    "2. R\n",
    "3. SQL\n"
   ]
  },
  {
   "cell_type": "markdown",
   "id": "7e6be6b5",
   "metadata": {},
   "source": [
    "# Some of the commonly used libraries used by Data Scientists include\n",
    "\n",
    "\n",
    "Data scientists commonly use several libraries in their work. Here are some of the commonly used libraries:\n",
    "\n",
    "1. NumPy\n",
    "2. pandas\n",
    "3. scikit-learn\n",
    "4. TensorFlow\n",
    "5. Keras\n",
    "6. PyTorch\n",
    "7. Matplotlib\n",
    "8. seaborn\n",
    "9. statsmodels\n",
    "10. SciPy\n"
   ]
  },
  {
   "cell_type": "markdown",
   "id": "3786f0c1",
   "metadata": {},
   "source": [
    "| Data Science Tools |\n",
    "| --- |\n",
    "| Jupyter Notebook |\n",
    "| RStudio |\n",
    "| PyCharm |\n"
   ]
  },
  {
   "cell_type": "markdown",
   "id": "03a5855c",
   "metadata": {},
   "source": [
    "### Introarithmetic\n"
   ]
  },
  {
   "cell_type": "markdown",
   "id": "1f2a9004",
   "metadata": {},
   "source": [
    "### This is a simple arithmetic expression to multiply then add integers\n"
   ]
  },
  {
   "cell_type": "code",
   "execution_count": 12,
   "id": "bb4bcc10",
   "metadata": {},
   "outputs": [
    {
     "name": "stdout",
     "output_type": "stream",
     "text": [
      "Result: 17\n"
     ]
    }
   ],
   "source": [
    "result =((3 * 4) + 5)\n",
    "print(\"Result:\", result)"
   ]
  },
  {
   "cell_type": "markdown",
   "id": "bb4b3f11",
   "metadata": {},
   "source": [
    "### Convert minutes to hours"
   ]
  },
  {
   "cell_type": "code",
   "execution_count": 13,
   "id": "e1e9b394",
   "metadata": {},
   "outputs": [
    {
     "name": "stdout",
     "output_type": "stream",
     "text": [
      "200 minutes is equal to 3.3333333333333335 hours\n"
     ]
    }
   ],
   "source": [
    "minutes = 200\n",
    "hours = minutes / 60\n",
    "print(\"200 minutes is equal to\", hours, \"hours\")"
   ]
  },
  {
   "cell_type": "markdown",
   "id": "2b7bea77",
   "metadata": {},
   "source": [
    "## Author \n",
    "Ujjwal Raj Paudel"
   ]
  },
  {
   "cell_type": "markdown",
   "id": "8f93999a",
   "metadata": {},
   "source": []
  }
 ],
 "metadata": {
  "kernelspec": {
   "display_name": "Python 3 (ipykernel)",
   "language": "python",
   "name": "python3"
  },
  "language_info": {
   "codemirror_mode": {
    "name": "ipython",
    "version": 3
   },
   "file_extension": ".py",
   "mimetype": "text/x-python",
   "name": "python",
   "nbconvert_exporter": "python",
   "pygments_lexer": "ipython3",
   "version": "3.10.9"
  }
 },
 "nbformat": 4,
 "nbformat_minor": 5
}
